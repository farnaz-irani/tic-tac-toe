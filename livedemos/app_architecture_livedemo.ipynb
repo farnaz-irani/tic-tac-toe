{
 "cells": [
  {
   "cell_type": "markdown",
   "metadata": {},
   "source": [
    "## Learn how to structure an appliction\n",
    "### An Example: A basic To Do list"
   ]
  },
  {
   "cell_type": "code",
   "execution_count": null,
   "metadata": {},
   "outputs": [],
   "source": [
    "to_do_list = ['task1', 'task2', 'task3']"
   ]
  },
  {
   "cell_type": "markdown",
   "metadata": {},
   "source": [
    "### Print the list as it is"
   ]
  },
  {
   "cell_type": "code",
   "execution_count": null,
   "metadata": {},
   "outputs": [],
   "source": [
    "\n",
    "print('*'*60)\n",
    "print(to_do_list)\n",
    "print('*'*60)"
   ]
  },
  {
   "cell_type": "markdown",
   "metadata": {},
   "source": [
    "### Basic To Do List Application"
   ]
  },
  {
   "cell_type": "code",
   "execution_count": null,
   "metadata": {},
   "outputs": [],
   "source": [
    "def to_do_basic(to_do_list):\n",
    "    print('*'*60)\n",
    "    for l in to_do_list:\n",
    "        print('- ' + l)\n",
    "    print('*'*60)\n",
    "\n",
    "to_do_basic(to_do_list)"
   ]
  },
  {
   "cell_type": "markdown",
   "metadata": {},
   "source": [
    "## Complex To Do List Application\n",
    "### Let's say the day is divided by 3 phases:\n",
    "    #### Tasks in the morning, midday and evening\n",
    "    #### in every phase we have different task which are interdependent"
   ]
  },
  {
   "cell_type": "markdown",
   "metadata": {},
   "source": [
    "## Workflow\n",
    "### Morning:\n",
    "> IF: working day\n",
    "--> task1 = Go to work\n",
    "\n",
    "> IF: day off\n",
    "--> task1 = Get a newspaper\n",
    "\n",
    "add task1 to list of tasks\n",
    "\n",
    "### Midday:\n",
    "> IF: Big Hunger\n",
    "--> task2 = Prepare meal\n",
    "\n",
    "> IF: Little hunger\n",
    "--> task2 = Get some yoghurt\n",
    "\n",
    "add task2 to list of tasks\n",
    "\n",
    "### Evening:\n",
    "> IF: Next day is a working day\n",
    "--> task3 = Choose a good night book\n",
    "\n",
    "> IF: Next day off\n",
    "--> task3 = Invite friends for a party\n",
    "\n",
    "add task3 to list of tasks\n",
    "\n",
    "print(list of tasks)"
   ]
  },
  {
   "cell_type": "code",
   "execution_count": null,
   "metadata": {},
   "outputs": [],
   "source": [
    "def to_do_complex1():\n",
    "    to_do_list = []\n",
    "    print('*'*60)\n",
    "    \n",
    "    # Morning\n",
    "    var_morning = input('Good morning. Is it a working day? - Use \"yes\" or \"no\" to answer.')\n",
    "    # if working day: task1 = Go to work\n",
    "    if var_morning == 'yes':\n",
    "        task = '- ' + 'Go to work'\n",
    "    # if day off: task1 = Get a newspaper\n",
    "    else:\n",
    "        task = '- ' + 'Get a newspaper'\n",
    "    to_do_list.append(task)\n",
    "\n",
    "    # Midday\n",
    "    var_midday = input('Good day. Are you really hungry? - Use \"yes\" or \"no\" to answer.')\n",
    "    # if big Hunger: task2 = Prepare a meal\n",
    "    if var_midday == 'yes':\n",
    "        task = '- ' + 'Prepare a meal'\n",
    "    # if little hunger: task2 = Get some yoghurt\n",
    "    else:\n",
    "        task = '- ' + 'Get some yoghurt'\n",
    "    to_do_list.append(task)\n",
    "\n",
    "    # Evening\n",
    "    var_evening = input('Good evening. Are you going to work tomorrow? - Use \"yes\" or \"no\" to answer.')\n",
    "    # if next day is: task3 = Working day\n",
    "    if var_evening == 'yes':\n",
    "        task = '- ' + 'Choose a good night book'\n",
    "    # if next day is: task3 = Day off\n",
    "    else:\n",
    "        task = '- ' + 'Invite friends for a party'\n",
    "    to_do_list.append(task)\n",
    "\n",
    "    print(*to_do_list, sep='\\n')\n",
    "    print('*'*60)\n",
    "\n",
    "to_do_complex1()"
   ]
  },
  {
   "cell_type": "code",
   "execution_count": null,
   "metadata": {},
   "outputs": [],
   "source": [
    "def morning():\n",
    "    to_do_list = []\n",
    "    var_morning = input('Good morning. Is it a working day? - Use \"yes\" or \"no\" to answer.')\n",
    "    if var_morning == 'yes':\n",
    "        task = '- ' + 'Go to work'\n",
    "    else:\n",
    "        task = '- ' + 'Get a newspaper'\n",
    "    to_do_list.append(task)\n",
    "\n",
    "    return to_do_list\n",
    "\n",
    "def midday(to_do_list):\n",
    "    var_midday = input('Good day. Are you really hungry? - Use \"yes\" or \"no\" to answer.')\n",
    "    if var_midday == 'yes':\n",
    "        task = '- ' + 'Prepare a meal'\n",
    "    else:\n",
    "        task = '- ' + 'Get some yoghurt'\n",
    "    to_do_list.append(task)\n",
    "    \n",
    "    return to_do_list\n",
    "\n",
    "def evening(to_do_list):\n",
    "    var_evening = input('Good evening. Are you going to work tomorrow? - Use \"yes\" or \"no\" to answer.')\n",
    "    if var_evening == 'yes':\n",
    "        task = '- ' + 'Choose a good night book'\n",
    "    else:\n",
    "        task = '- ' + 'Invite friends for a party'\n",
    "    to_do_list.append(task)\n",
    "\n",
    "    return to_do_list"
   ]
  },
  {
   "cell_type": "code",
   "execution_count": null,
   "metadata": {},
   "outputs": [],
   "source": [
    "def to_do_complex2():\n",
    "    print('*'*60)\n",
    "    to_do_list1 = morning()\n",
    "    to_do_list2 = midday(to_do_list1)\n",
    "    to_do_list3 = evening(to_do_list2)\n",
    "    print(*to_do_list3, sep='\\n')\n",
    "    print('*'*60)\n",
    "\n",
    "to_do_complex2()"
   ]
  },
  {
   "cell_type": "code",
   "execution_count": null,
   "metadata": {},
   "outputs": [],
   "source": [
    "def part_of_day(task_list, part_of_day_dict):\n",
    "    for key, values in part_of_day_dict.items():\n",
    "        info = key\n",
    "        tasks = values\n",
    "        \n",
    "    var_morning = input(info + ' - Use \"yes\" or \"no\" to answer.')\n",
    "    if var_morning == 'yes':\n",
    "        task = '- ' + tasks[0]\n",
    "    else:\n",
    "        task = '- ' + tasks[1]\n",
    "    task_list.append(task)\n",
    "\n",
    "    return task_list"
   ]
  },
  {
   "cell_type": "code",
   "execution_count": null,
   "metadata": {},
   "outputs": [],
   "source": [
    "morning_dict = {'Good morning. Is it a working day?': ['Go to work', 'Get a newspaper']}\n",
    "midday_dict = {'Good day. Are you really hungry?': ['Prepare a meal', 'Get some yoghurt']}\n",
    "evening_dict = {'Good evening. Are you going to work tomorrow?': ['Choose a good night book', 'Invite friends for a party']}\n",
    "\n",
    "def to_do_complex3():\n",
    "    print('*'*60)\n",
    "    task_list1 = part_of_day([], morning_dict)\n",
    "    task_list2 = part_of_day(task_list1, midday_dict)\n",
    "    task_list3 = part_of_day(task_list2, evening_dict)\n",
    "    print(*task_list3, sep='\\n')\n",
    "    print('*'*60)\n",
    "\n",
    "to_do_complex3()"
   ]
  }
 ],
 "metadata": {
  "interpreter": {
   "hash": "78110af480f01dd15876663fe873a9891f328206b628c2ca13d412229717bbd0"
  },
  "kernelspec": {
   "display_name": "Python 3.9.10 ('api_project')",
   "language": "python",
   "name": "python3"
  },
  "language_info": {
   "codemirror_mode": {
    "name": "ipython",
    "version": 3
   },
   "file_extension": ".py",
   "mimetype": "text/x-python",
   "name": "python",
   "nbconvert_exporter": "python",
   "pygments_lexer": "ipython3",
   "version": "3.9.10"
  },
  "orig_nbformat": 4
 },
 "nbformat": 4,
 "nbformat_minor": 2
}
